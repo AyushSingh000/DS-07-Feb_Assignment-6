{
 "cells": [
  {
   "cell_type": "code",
   "execution_count": null,
   "id": "469c3943-c576-488d-a54f-a048e4079b94",
   "metadata": {},
   "outputs": [],
   "source": [
    "# Answer 1\n",
    "def check(password):\n",
    "    upper_count=0\n",
    "    lower_count=0\n",
    "    number_count=0\n",
    "    special_count=0\n",
    "    \n",
    "    for chr in password:\n",
    "        if chr.isdigit():\n",
    "            number_count+=1\n",
    "        elif chr.isupper():\n",
    "            upper_count+=1\n",
    "        elif chr.islower():\n",
    "            lower_count+=1\n",
    "        elif chr in '!@#$%^&*':\n",
    "            special_count+=1\n",
    "      \n",
    "    if upper_count>=2 and lower_count>=2 and special_count>=3 and number_count>=1 and len(password)==10:\n",
    "        return 'Valid password'\n",
    "    else:\n",
    "        return 'Invaild password'\n",
    "\n",
    "   \n",
    "password =input('Enter password:')\n",
    "print(check(password))"
   ]
  },
  {
   "cell_type": "code",
   "execution_count": 23,
   "id": "7648a490-9c7f-4363-bcb2-18def0dbc324",
   "metadata": {},
   "outputs": [
    {
     "name": "stdout",
     "output_type": "stream",
     "text": [
      "['Singh']\n",
      "True\n",
      "[('orange', 80), ('mango', 99), ('grapes', 1000)]\n",
      "[1, 4, 9, 16, 25, 36, 49, 64, 81, 100]\n",
      "[1.0, 1.2599210498948732, 1.4422495703074083, 1.5874010519681994, 1.7099759466766968, 1.8171205928321397, 1.912931182772389, 2.0, 2.080083823051904, 2.154434690031884]\n",
      "[2, 34, 4, 6, 24]\n",
      "[1, 3, 5, 7, 9]\n",
      "[1, 2, 3, 4, 5, 6]\n",
      "[-1, -2, -3, -4, -5]\n"
     ]
    }
   ],
   "source": [
    "# Answer 2\n",
    "# Check if the string starts with a particular letter.\n",
    "def starts_with(string, letter):\n",
    "    return filter(lambda x:x.startswith(letter), string)\n",
    "string=['Ayush','Singh','pwskills']\n",
    "letter='S'\n",
    "result=list(starts_with(string, letter))\n",
    "print(result)\n",
    "\n",
    "# Check if the string is numeric\n",
    "string='12344'\n",
    "check=lambda x: x.isdigit()\n",
    "print(check(string))\n",
    "\n",
    "# Sort a list of tuples having fruit names and their quantity. [(\"mango\",99),(\"orange\",80), (\"grapes\", 1000)]\n",
    "fruits=[(\"mango\",99),(\"orange\",80), (\"grapes\", 1000)]\n",
    "sort_fruits= sorted(fruits,key=lambda x:x[1])\n",
    "print(sort_fruits)\n",
    "\n",
    "# Find the squares of numbers from 1 to 10\n",
    "n=range(1,11)\n",
    "sq=list(map(lambda x:x**2,n))\n",
    "print(sq)\n",
    "\n",
    "# Find the cube root of numbers from 1 to 10\n",
    "n1=range(1,11)\n",
    "cube_root=list(map(lambda x:pow(x,1/3),n1))\n",
    "print(cube_root)\n",
    "\n",
    "# Check if a given number is even\n",
    "n2=[1,2,3,34,4,55,55,6,7,77,77,77,24]\n",
    "check_even=[i for i in n2 if i%2==0]\n",
    "print(check_even)\n",
    "\n",
    "# Filter odd numbers from the given list.\n",
    "l=[1,2,3,4,5,6,7,8,9,10]\n",
    "odd_num=[i for i in l if i%2!=0]\n",
    "print(odd_num)\n",
    "\n",
    "# Sort a list of integers into positive and negative integers lists.\n",
    "l1=[1,2,3,4,5,6,-1,-2,-3,-4,-5,0]\n",
    "positive_int= list(filter(lambda x:x>0,l1))\n",
    "negative_int=list(filter(lambda x:x<0,l1))\n",
    "print(positive_int)\n",
    "print(negative_int)"
   ]
  },
  {
   "cell_type": "code",
   "execution_count": null,
   "id": "ac85bd67-555a-4ea9-8ed4-fc43457ab4ac",
   "metadata": {},
   "outputs": [],
   "source": []
  },
  {
   "cell_type": "code",
   "execution_count": null,
   "id": "f591c51f-decb-43a4-8f82-e18b1035ebba",
   "metadata": {},
   "outputs": [],
   "source": []
  },
  {
   "cell_type": "code",
   "execution_count": null,
   "id": "3271c321-a714-47dd-8716-76fa9cb1edfb",
   "metadata": {},
   "outputs": [],
   "source": []
  },
  {
   "cell_type": "code",
   "execution_count": null,
   "id": "f414f23d-a8f1-4cf5-888c-a3db39a95a49",
   "metadata": {},
   "outputs": [],
   "source": []
  }
 ],
 "metadata": {
  "kernelspec": {
   "display_name": "Python 3 (ipykernel)",
   "language": "python",
   "name": "python3"
  },
  "language_info": {
   "codemirror_mode": {
    "name": "ipython",
    "version": 3
   },
   "file_extension": ".py",
   "mimetype": "text/x-python",
   "name": "python",
   "nbconvert_exporter": "python",
   "pygments_lexer": "ipython3",
   "version": "3.10.8"
  }
 },
 "nbformat": 4,
 "nbformat_minor": 5
}
